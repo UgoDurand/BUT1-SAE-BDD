{
 "cells": [
  {
   "cell_type": "markdown",
   "id": "cb47eb30",
   "metadata": {},
   "source": [
    "#  <center><u> SAE 1.04 Création d'une base de donnée<center><u>"
   ]
  },
  {
   "cell_type": "markdown",
   "id": "8cb806c6",
   "metadata": {},
   "source": [
    "### <center> Omar Elnady <br/><br/>Ugo Durand<br/><br/><u>Groupe : Pegasus<center><u>"
   ]
  },
  {
   "cell_type": "markdown",
   "id": "177faee8",
   "metadata": {},
   "source": [
    "## <center><u>Phase 1 : évaluation en séance de TP, semaine 20/09<u><center>\n"
   ]
  },
  {
   "cell_type": "markdown",
   "id": "587fb2df",
   "metadata": {},
   "source": [
    "<h2> Lors de cette phase, nous avons d'abord eu a installer Postgresql et Jupyter-Notebook<br/>\n",
    "<br/>\n",
    "    Nous avons dans un second temps télécharger le fichier <i>titanic_train.csv<i> que nous avons ensuite analyser. Cette analyse s'est faite sur plusieurs points : <br/>\n",
    "    <br/>\n",
    "    1. Les paramètres de la table (Cardinalité, Degré)\n",
    "    <br/><br/>\n",
    "    2. Les attributs\n",
    "    <br/><br/>\n",
    "    3. Les tuples correspondantes aux attributs\n",
    "    <br/><br/>\n",
    "    4. L'utilité de la table<h2>"
   ]
  },
  {
   "cell_type": "markdown",
   "id": "261862ad",
   "metadata": {},
   "source": [
    "<FONT size=\"5pt\"> 1. Dans cette Table nous pouvons remarquer la présence de 12 attributs donnant donc undegré (nombre de colones) équivalant à 12.<br/><br/>\n",
    "Lorsque nous descendons dans cette table nous arrivons jusqu'aux données de la 891ème personne enregistrée sur le Tianic. Nous pouvons donc en déduire que la cardinalité(nombre de lignes) de la table est de 891</FONT>"
   ]
  },
  {
   "cell_type": "markdown",
   "id": "a542b817",
   "metadata": {},
   "source": [
    "<img src=\"https://cdn.discordapp.com/attachments/888091107932651581/890253837988937748/attributs.png\"/>"
   ]
  },
  {
   "cell_type": "markdown",
   "id": "0cfd8e49",
   "metadata": {},
   "source": [
    "<FONT size=\"5pt\"> 2. Dans la table les 12 attributs correspondent aux : <br/><br/>\n",
    "    - Id du passager pour \"PassengerID\"<br/>\n",
    "    - Si l'individu à survécu pour \"Survived\"<br/>\n",
    "    - A la quel classe appartenait le passager pour \"Pclass\"<br/>\n",
    "    - Le Nom/Prénom du passager pour \"Name\"<br/>\n",
    "    - Le genre du passager pour \"Sex\"<br/>\n",
    "    - Son Âge \"Age\"<br/>\n",
    "    - Présence de conjoint, de frère ou de soeur à bord pour \"SibSP\"<br/>\n",
    "    - Présence ou non de parents ou d'enfants à bord pour \"Parch\"<br/>\n",
    "    - Le numéro du ticket pour \"Ticket\"<br/>\n",
    "    - Le tarif du ticket \"Fare\"<br/>\n",
    "    - Le Numéro de Cabine pour \"Cabin\"<br/>\n",
    "    - Le quai d'Embarquement pour \"Embarked\"<br/>\n",
    "    "
   ]
  },
  {
   "cell_type": "markdown",
   "id": "a88746e4",
   "metadata": {},
   "source": [
    "<br/><br/><br/><br/><FONT size=\"5pt\"> 3. Pour chaque attribut, des tuples lui sont ajoutés et diffèrent selon l'attribut en question : <br/><br/>\n",
    "    - PassengerID : Numéro unique pour chaque passager<br/>\n",
    "    - Survived : 0 = Non, 1 = Oui<br/>\n",
    "    - Pclass :  1 = 1er, 2 = 2e, 3 = 3e (numéro de classe)<br/>\n",
    "    - Name : Nom du passager<br/>\n",
    "    - Sex : \"male\" pour homme \"female\" pour femme<br/>\n",
    "    - Age : Age en années<br/>\n",
    "    - SibSP : 0 = Non, 1 = Oui<br/>\n",
    "    - Parch : 0 = Non, 1 = Oui<br/>\n",
    "    - Ticket : Numéro unique<br/>\n",
    "    - Fare : Tarif<br/>\n",
    "    - Cabin : Numéro de Cabine<br/>\n",
    "    - Embarked : C = Cherbourg, Q = Queenstown, S = Southampton"
   ]
  },
  {
   "cell_type": "markdown",
   "id": "d6cb5412",
   "metadata": {},
   "source": [
    "<br/><br/><br/><br/><FONT size=\"5pt\"> 4. Train.csv contiendra les détails d'un sous-ensemble de passagers à bord (891 pour être exact) et, surtout, révélera s'ils ont survécu ou non en détaillant toute leurs informations personnelles et celles propos de la croisière à bord du titanic"
   ]
  },
  {
   "cell_type": "markdown",
   "id": "724467bd",
   "metadata": {},
   "source": [
    "<br/><br/><br/><br/><center><FONT size=\"5pt\"> Voici un tableau des tâches à réaliser pour la SAE 1.04 : "
   ]
  },
  {
   "cell_type": "markdown",
   "id": "4b05e43c",
   "metadata": {},
   "source": [
    "<img src = \"https://cdn.discordapp.com/attachments/888091107932651581/890262357224345620/taches.PNG\"/>\n",
    "\n",
    "<img src = \"https://cdn.discordapp.com/attachments/888091107932651581/890262862679908362/p1.PNG\"/>\n",
    "\n",
    "<img src = \"https://cdn.discordapp.com/attachments/888091107932651581/890262871576047676/p2.PNG\"/>\n",
    "\n",
    "<img src = \"https://cdn.discordapp.com/attachments/888091107932651581/890262879494893598/p3.PNG\"/>"
   ]
  },
  {
   "cell_type": "markdown",
   "id": "7cab2d29",
   "metadata": {},
   "source": [
    "## <center><u>Phase 2 : évaluation en séance de TP, semaine 18/10<u><center>"
   ]
  },
  {
   "cell_type": "markdown",
   "id": "adbdbada",
   "metadata": {},
   "source": [
    "<FONT size=\"5pt\">Nous avons décider de créer une table nommé \"passagers\" qui donnera toutes les informations personnelles des personnes ayant été à bord du Titanic. Du coté des  attributs nous retrouverons :- PassagersId, - Survived, - Name, - Sex, - Age, - SibSp, - Parch. Le degré de la table sera de 7 et la clé primaire sera PassengerID.\n",
    "\n",
    "<FONT size=\"5pt\">Cette table permettra de plus facilement trouver ce que l'on souhaite en séparant les informations personnelles sur les passagers et celles portant sur la croisière en elle même qui fera d'ailleurs office de seconde table.\n",
    "    \n",
    "<FONT size=\"5pt\">Cette table receuillera toutes les informations concernant la croisière à bord du titanic. Les attributs seront :- Ticket, -Pclass, -Fare, -Cabin, -Embarked, -PassengerId donnant un degré de 6 pour cette seconde table.\n",
    "La clé primaire sera Ticket qui est le numéro de tickets du passagers.\n",
    "    \n",
    "<FONT size=\"5pt\">Pour se faire, nous avons diviser le fichier titanic_tain.csv en 2 dossiers. Le premier avec toutes les données de la table \"passagers\" et la seconde avec toutes les données de la table \"croisière\"."
   ]
  },
  {
   "cell_type": "code",
   "execution_count": 2,
   "id": "65eda097",
   "metadata": {},
   "outputs": [],
   "source": [
    "%load_ext sql"
   ]
  },
  {
   "cell_type": "code",
   "execution_count": 3,
   "id": "7c18b450",
   "metadata": {},
   "outputs": [],
   "source": [
    "%sql sqlite://"
   ]
  },
  {
   "cell_type": "code",
   "execution_count": 4,
   "id": "30f9f9fc",
   "metadata": {},
   "outputs": [
    {
     "name": "stdout",
     "output_type": "stream",
     "text": [
      " * sqlite://\n",
      "Done.\n"
     ]
    },
    {
     "data": {
      "text/plain": [
       "[]"
      ]
     },
     "execution_count": 4,
     "metadata": {},
     "output_type": "execute_result"
    }
   ],
   "source": [
    "%%sql\n",
    "\n",
    "CREATE TABLE passagers (PassengerId int primary key, Survived int, Name varchar(20), Sex varchar(20), Age varchar(20), SibSp int, Parch int);"
   ]
  },
  {
   "cell_type": "code",
   "execution_count": 5,
   "id": "87fc2129",
   "metadata": {},
   "outputs": [
    {
     "name": "stdout",
     "output_type": "stream",
     "text": [
      " * sqlite://\n",
      "Done.\n"
     ]
    },
    {
     "data": {
      "text/html": [
       "<table>\n",
       "    <tr>\n",
       "        <th>PassengerId</th>\n",
       "        <th>Survived</th>\n",
       "        <th>Name</th>\n",
       "        <th>Sex</th>\n",
       "        <th>Age</th>\n",
       "        <th>SibSp</th>\n",
       "        <th>Parch</th>\n",
       "    </tr>\n",
       "</table>"
      ],
      "text/plain": [
       "[]"
      ]
     },
     "execution_count": 5,
     "metadata": {},
     "output_type": "execute_result"
    }
   ],
   "source": [
    "%sql select * from passagers;"
   ]
  },
  {
   "cell_type": "code",
   "execution_count": 6,
   "id": "3487d0a0",
   "metadata": {},
   "outputs": [
    {
     "name": "stdout",
     "output_type": "stream",
     "text": [
      " * sqlite://\n",
      "Done.\n"
     ]
    },
    {
     "data": {
      "text/plain": [
       "[]"
      ]
     },
     "execution_count": 6,
     "metadata": {},
     "output_type": "execute_result"
    }
   ],
   "source": [
    "%sql CREATE TABLE croisière (Ticket varchar(20) primary key, Pclass int, Fare float, Cabin varchar(20), Embarked varchar(20), PassengerID int);"
   ]
  },
  {
   "cell_type": "code",
   "execution_count": 38,
   "id": "5d1c84ba",
   "metadata": {},
   "outputs": [
    {
     "name": "stdout",
     "output_type": "stream",
     "text": [
      " * sqlite://\n",
      "Done.\n"
     ]
    },
    {
     "data": {
      "text/html": [
       "<table>\n",
       "    <tr>\n",
       "        <th>Ticket</th>\n",
       "        <th>Pclass</th>\n",
       "        <th>Fare</th>\n",
       "        <th>Cabin</th>\n",
       "        <th>Embarked</th>\n",
       "        <th>PassengerID</th>\n",
       "    </tr>\n",
       "</table>"
      ],
      "text/plain": [
       "[]"
      ]
     },
     "execution_count": 38,
     "metadata": {},
     "output_type": "execute_result"
    }
   ],
   "source": [
    "%sql select * from croisière;"
   ]
  },
  {
   "cell_type": "markdown",
   "id": "9cc7a42a",
   "metadata": {},
   "source": [
    "<FONT size=\"5pt\">A partir d'ici nous avons utiliser le terminal afin d'insérer les valeurs dans les tables"
   ]
  },
  {
   "cell_type": "markdown",
   "id": "5f397f69",
   "metadata": {},
   "source": [
    "<FONT size=\"5pt\"> Pour copier les données dans la table \"passagers\":\n",
    "    \n",
    "<img src = \"https://cdn.discordapp.com/attachments/888091107932651581/900657940120358962/image0.png \"/>\n",
    "    \n",
    "<FONT size=\"5pt\"> En utilisant \"select * from passagers\" on obtient (ici qu'une petite partie) la table et ses infomations\n",
    "\n",
    "<img src =\"https://cdn.discordapp.com/attachments/888091107932651581/900659863607181382/image1.png \"/>\n",
    "\n",
    "<FONT size=\"5pt\"> Pour copier les données dans la table \"croisière\":\n",
    "    \n",
    "<img src =\"https://cdn.discordapp.com/attachments/888091107932651581/900659028538032168/image0.png \"/>\n",
    "    \n",
    "<FONT size=\"5pt\"> En utilisant \"select * from croisière\" on obtient (ici q'une petite partie) la table et ses infomations*\n",
    "    \n",
    "<img src =\"https://cdn.discordapp.com/attachments/888091107932651581/900659863338766336/image0.png \"/>"
   ]
  },
  {
   "cell_type": "markdown",
   "id": "4c79bf46",
   "metadata": {},
   "source": [
    "## <center><u>Phase 3 : évaluation en séance de TP, semaine 29/11"
   ]
  },
  {
   "cell_type": "markdown",
   "id": "dbda6c30",
   "metadata": {},
   "source": [
    "<FONT size=\"5pt\">\n",
    "Voici les requêtes :<br/><br/>\n",
    "1. select count(DISTINCT pclass) from croisière;<br/><br/>\n",
    "    <img src =\"https://cdn.discordapp.com/attachments/888091107932651581/915874240341880842/IMG_2086.png\n",
    "\"/><br/><br/>\n",
    "2. SELECT pclass, SUM(1) FROM croisiere GROUP BY pclass;<br/><br/>\n",
    "<img src = \"https://cdn.discordapp.com/attachments/888091107932651581/915874240593559562/IMG_2085.png\n",
    "\"/><br/><br/>\n",
    "3.select sex,pclass, count(*) from passagers natural join croisière where passagers.sex='female' group by pclass, sex union select sex,pclass, count(**) from passagers natural join croisière where passagers.sex='male' group by pclass, sex;<br/><br/>\n",
    "    <img src = \"https://cdn.discordapp.com/attachments/888091107932651581/915872577925296158/IMG_2082.png\"/><br/><br/>\n",
    "\n",
    "5.select pclass,survived, count(*) from croisière natural join passagers group by pclass,survived;<br/><br/>\n",
    "                <img src = \"https://cdn.discordapp.com/attachments/888091107932651581/915872577732366346/IMG_2083.png\n",
    "\"/><br/><br/>\n",
    "\n",
    "6.select sex,survived, count(*) from croisière natural join passagers group by sex,survived; <br/><br/>\n",
    "    <img src =\"https://cdn.discordapp.com/attachments/888091107932651581/915872577535242280/IMG_2084.png\"/><br/><br/>\n"
   ]
  }
 ],
 "metadata": {
  "kernelspec": {
   "display_name": "Python 3",
   "language": "python",
   "name": "python3"
  },
  "language_info": {
   "codemirror_mode": {
    "name": "ipython",
    "version": 3
   },
   "file_extension": ".py",
   "mimetype": "text/x-python",
   "name": "python",
   "nbconvert_exporter": "python",
   "pygments_lexer": "ipython3",
   "version": "3.8.8"
  }
 },
 "nbformat": 4,
 "nbformat_minor": 5
}
